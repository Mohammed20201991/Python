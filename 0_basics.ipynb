{
 "cells": [
  {
   "cell_type": "code",
   "execution_count": 1,
   "id": "64af16cb",
   "metadata": {},
   "outputs": [],
   "source": [
    "import torch "
   ]
  },
  {
   "cell_type": "code",
   "execution_count": 7,
   "id": "7f15320c",
   "metadata": {},
   "outputs": [
    {
     "data": {
      "text/plain": [
       "tensor([[2.3022e-26],\n",
       "        [4.5908e-41],\n",
       "        [2.3577e-26]])"
      ]
     },
     "execution_count": 7,
     "metadata": {},
     "output_type": "execute_result"
    }
   ],
   "source": [
    "x = torch.empty(3,1)\n",
    "x"
   ]
  },
  {
   "cell_type": "code",
   "execution_count": 6,
   "id": "00ab99e6",
   "metadata": {},
   "outputs": [
    {
     "data": {
      "text/plain": [
       "tensor([[0.6999, 0.8341],\n",
       "        [0.2353, 0.1806]])"
      ]
     },
     "execution_count": 6,
     "metadata": {},
     "output_type": "execute_result"
    }
   ],
   "source": [
    "y = torch.rand(2,2)\n",
    "y"
   ]
  },
  {
   "cell_type": "code",
   "execution_count": 11,
   "id": "14f81422",
   "metadata": {},
   "outputs": [
    {
     "name": "stdout",
     "output_type": "stream",
     "text": [
      "torch.Size([2, 2])\n"
     ]
    },
    {
     "data": {
      "text/plain": [
       "tensor([[1, 1],\n",
       "        [1, 1]], dtype=torch.int32)"
      ]
     },
     "execution_count": 11,
     "metadata": {},
     "output_type": "execute_result"
    }
   ],
   "source": [
    "x = torch.ones(2,2,dtype= torch.int32)\n",
    "print(x.size())\n",
    "x"
   ]
  },
  {
   "cell_type": "code",
   "execution_count": 15,
   "id": "2467f103",
   "metadata": {},
   "outputs": [
    {
     "name": "stdout",
     "output_type": "stream",
     "text": [
      "torch.Size([3])\n"
     ]
    },
    {
     "data": {
      "text/plain": [
       "tensor([1.0000, 2.0000, 4.6000])"
      ]
     },
     "execution_count": 15,
     "metadata": {},
     "output_type": "execute_result"
    }
   ],
   "source": [
    "x = torch.tensor([1,2,4.6])#list\n",
    "print(x.size())\n",
    "x"
   ]
  },
  {
   "cell_type": "code",
   "execution_count": 18,
   "id": "3159dadd",
   "metadata": {},
   "outputs": [
    {
     "data": {
      "text/plain": [
       "tensor([[1.0306, 1.4993, 0.0719],\n",
       "        [1.7124, 0.6576, 0.3303],\n",
       "        [1.1313, 0.6423, 0.9898]])"
      ]
     },
     "execution_count": 18,
     "metadata": {},
     "output_type": "execute_result"
    }
   ],
   "source": [
    "x= torch.rand(3,3)\n",
    "y= torch.rand(3,3)\n",
    "z= x + y\n",
    "# z = torch.sub(x,y)\n",
    "# z = torch.mul(x,y)\n",
    "\n",
    "z = torch.add(x,y)\n",
    "# y = add_(x)  # inplace\n",
    "# y = mul_(x)  # inplace\n",
    "\n",
    "z"
   ]
  },
  {
   "cell_type": "markdown",
   "id": "47d80ecd",
   "metadata": {},
   "source": [
    "# Slacing"
   ]
  },
  {
   "cell_type": "code",
   "execution_count": 21,
   "id": "7fd4b031",
   "metadata": {},
   "outputs": [
    {
     "name": "stdout",
     "output_type": "stream",
     "text": [
      "tensor([[0.7112, 0.0823, 0.7723],\n",
      "        [0.9151, 0.6163, 0.7417],\n",
      "        [0.4597, 0.1815, 0.6916],\n",
      "        [0.9269, 0.1911, 0.5953],\n",
      "        [0.1792, 0.9985, 0.0832]])\n",
      "tensor([0.7112, 0.9151, 0.4597, 0.9269, 0.1792])\n",
      "tensor([0.1792, 0.9985, 0.0832])\n",
      "0.6163166761398315\n"
     ]
    }
   ],
   "source": [
    "x = torch.rand(5,3)\n",
    "print(x)\n",
    "print(x[:,0])  # column 0 \n",
    "print(x[-1])  # last row \n",
    "print(x[1,1].item()) # will gives actual value "
   ]
  },
  {
   "cell_type": "code",
   "execution_count": 25,
   "id": "94cda67c",
   "metadata": {},
   "outputs": [
    {
     "data": {
      "text/plain": [
       "tensor([[0.5833, 0.4328, 0.6505, 0.9374, 0.6222, 0.7998, 0.4658, 0.1408],\n",
       "        [0.5971, 0.9233, 0.0679, 0.4484, 0.0486, 0.6778, 0.6369, 0.2935]])"
      ]
     },
     "execution_count": 25,
     "metadata": {},
     "output_type": "execute_result"
    }
   ],
   "source": [
    "x = torch.rand(4,4)\n",
    "# y = x.view(16)\n",
    "y = x.view(-1,8)\n",
    "y"
   ]
  },
  {
   "cell_type": "code",
   "execution_count": 34,
   "id": "3968dfd4",
   "metadata": {},
   "outputs": [
    {
     "name": "stdout",
     "output_type": "stream",
     "text": [
      "<class 'torch.Tensor'> tensor([1., 1., 1., 1., 1.])\n",
      "<class 'numpy.ndarray'> [1. 1. 1. 1. 1.]\n",
      "tensor([2., 2., 2., 2., 2.])\n"
     ]
    }
   ],
   "source": [
    "# from tensor to numpy array \n",
    "import numpy as np\n",
    "a= torch.ones(5)\n",
    "print(type(a),a)\n",
    "b = a.numpy()\n",
    "print(type(b),b)\n",
    "print(a.add_(1))\n",
    "# print(b.add_(1)) #numpy.ndarray' object has no attribute 'add_'"
   ]
  },
  {
   "cell_type": "code",
   "execution_count": 37,
   "id": "231e8093",
   "metadata": {},
   "outputs": [
    {
     "name": "stdout",
     "output_type": "stream",
     "text": [
      "<class 'numpy.ndarray'> [1. 1. 1. 1. 1.]\n"
     ]
    },
    {
     "data": {
      "text/plain": [
       "tensor([1., 1., 1., 1., 1.], dtype=torch.float64)"
      ]
     },
     "execution_count": 37,
     "metadata": {},
     "output_type": "execute_result"
    }
   ],
   "source": [
    "# from array to tensor\n",
    "a= np.ones(5)\n",
    "print(type(a),a)\n",
    "b = torch.from_numpy(a)\n",
    "b"
   ]
  },
  {
   "cell_type": "code",
   "execution_count": 41,
   "id": "429f29a7",
   "metadata": {},
   "outputs": [
    {
     "name": "stdout",
     "output_type": "stream",
     "text": [
      "tensor([[0.5833, 0.4328, 0.6505, 0.9374],\n",
      "        [0.6222, 0.7998, 0.4658, 0.1408],\n",
      "        [0.5971, 0.9233, 0.0679, 0.4484],\n",
      "        [0.0486, 0.6778, 0.6369, 0.2935]])\n",
      "tensor([[0.5833, 0.4328, 0.6505, 0.9374, 0.6222, 0.7998, 0.4658, 0.1408],\n",
      "        [0.5971, 0.9233, 0.0679, 0.4484, 0.0486, 0.6778, 0.6369, 0.2935]])\n"
     ]
    }
   ],
   "source": [
    "if torch.cuda.is_available():\n",
    "    # use gpu\n",
    "    device = torch.device(\"cuda\")\n",
    "    x = torch.ones(5,device= device)\n",
    "    y = torch.ones(5)\n",
    "    y = y.to(device)\n",
    "    z = x + y\n",
    "    z = z.to(\"cpu\") # we move to cpu because numpy dont deal with gpu\n",
    "print(x)\n",
    "print(y)"
   ]
  },
  {
   "cell_type": "code",
   "execution_count": 42,
   "id": "7674580b",
   "metadata": {},
   "outputs": [
    {
     "data": {
      "text/plain": [
       "tensor([1., 1., 1., 1., 1.], requires_grad=True)"
      ]
     },
     "execution_count": 42,
     "metadata": {},
     "output_type": "execute_result"
    }
   ],
   "source": [
    "#tell pytorch we need this tensor to calculate the graident later \n",
    "# for optimazation we need gradent\n",
    "x = torch.ones(5, requires_grad=True)\n",
    "x"
   ]
  },
  {
   "cell_type": "code",
   "execution_count": null,
   "id": "f66a5744",
   "metadata": {},
   "outputs": [],
   "source": []
  }
 ],
 "metadata": {
  "kernelspec": {
   "display_name": "Python 3 (ipykernel)",
   "language": "python",
   "name": "python3"
  },
  "language_info": {
   "codemirror_mode": {
    "name": "ipython",
    "version": 3
   },
   "file_extension": ".py",
   "mimetype": "text/x-python",
   "name": "python",
   "nbconvert_exporter": "python",
   "pygments_lexer": "ipython3",
   "version": "3.9.7"
  }
 },
 "nbformat": 4,
 "nbformat_minor": 5
}
