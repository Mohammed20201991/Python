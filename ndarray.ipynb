{
 "cells": [
  {
   "cell_type": "markdown",
   "id": "8d7ff23e",
   "metadata": {},
   "source": [
    "\\* hello mohammed\\*\n",
    "*hello mohammed*"
   ]
  },
  {
   "cell_type": "markdown",
   "id": "eba7b366",
   "metadata": {},
   "source": [
    "# Heading 1\n",
    "## Heading 2\n",
    "### Heading 2.1\n",
    "#### Heading 2.2\n"
   ]
  },
  {
   "cell_type": "code",
   "execution_count": 85,
   "id": "ed091c22",
   "metadata": {},
   "outputs": [],
   "source": [
    "import numpy as np"
   ]
  },
  {
   "cell_type": "code",
   "execution_count": 35,
   "id": "e33416f2",
   "metadata": {},
   "outputs": [],
   "source": [
    "a = np.array([11,22,33,44,55,66])"
   ]
  },
  {
   "cell_type": "code",
   "execution_count": 12,
   "id": "e17fd235",
   "metadata": {},
   "outputs": [
    {
     "name": "stdout",
     "output_type": "stream",
     "text": [
      "[11 22 33 44 55 66]\n"
     ]
    }
   ],
   "source": [
    "print(a)"
   ]
  },
  {
   "cell_type": "code",
   "execution_count": 13,
   "id": "a4507706",
   "metadata": {},
   "outputs": [
    {
     "name": "stdout",
     "output_type": "stream",
     "text": [
      "<class 'numpy.ndarray'>\n"
     ]
    }
   ],
   "source": [
    "print(type(a))"
   ]
  },
  {
   "cell_type": "code",
   "execution_count": 22,
   "id": "93d1589a",
   "metadata": {},
   "outputs": [],
   "source": [
    "b = np.array([[11,22,33,44],[1,2,3,4]])"
   ]
  },
  {
   "cell_type": "code",
   "execution_count": 21,
   "id": "1c11dac8",
   "metadata": {},
   "outputs": [
    {
     "name": "stdout",
     "output_type": "stream",
     "text": [
      "[[11 22 33 44]\n",
      " [ 1  2  3  4]]\n"
     ]
    }
   ],
   "source": [
    "print(b)"
   ]
  },
  {
   "cell_type": "code",
   "execution_count": 23,
   "id": "90458b68",
   "metadata": {},
   "outputs": [],
   "source": [
    "c = np.array([77,88,99],complex)"
   ]
  },
  {
   "cell_type": "code",
   "execution_count": 24,
   "id": "1439c276",
   "metadata": {},
   "outputs": [
    {
     "name": "stdout",
     "output_type": "stream",
     "text": [
      "[77.+0.j 88.+0.j 99.+0.j]\n"
     ]
    }
   ],
   "source": [
    "print(c)"
   ]
  },
  {
   "cell_type": "code",
   "execution_count": 25,
   "id": "5dccc52a",
   "metadata": {},
   "outputs": [
    {
     "name": "stdout",
     "output_type": "stream",
     "text": [
      "<class 'numpy.ndarray'>\n"
     ]
    }
   ],
   "source": [
    "print(type(c))"
   ]
  },
  {
   "cell_type": "code",
   "execution_count": 26,
   "id": "fb6c9f21",
   "metadata": {},
   "outputs": [
    {
     "name": "stdout",
     "output_type": "stream",
     "text": [
      "1\n"
     ]
    }
   ],
   "source": [
    "print(c.ndim)"
   ]
  },
  {
   "cell_type": "code",
   "execution_count": 27,
   "id": "77a29af9",
   "metadata": {},
   "outputs": [
    {
     "name": "stdout",
     "output_type": "stream",
     "text": [
      "1\n"
     ]
    }
   ],
   "source": [
    "print(a.ndim)"
   ]
  },
  {
   "cell_type": "code",
   "execution_count": 28,
   "id": "9137132f",
   "metadata": {},
   "outputs": [
    {
     "name": "stdout",
     "output_type": "stream",
     "text": [
      "2\n"
     ]
    }
   ],
   "source": [
    "print(b.ndim)"
   ]
  },
  {
   "cell_type": "code",
   "execution_count": 29,
   "id": "aa2b2577",
   "metadata": {},
   "outputs": [
    {
     "name": "stdout",
     "output_type": "stream",
     "text": [
      "4\n"
     ]
    }
   ],
   "source": [
    "print(a.itemsize)"
   ]
  },
  {
   "cell_type": "code",
   "execution_count": 30,
   "id": "84811477",
   "metadata": {},
   "outputs": [
    {
     "name": "stdout",
     "output_type": "stream",
     "text": [
      "4\n"
     ]
    }
   ],
   "source": [
    "print(b.itemsize)"
   ]
  },
  {
   "cell_type": "code",
   "execution_count": 31,
   "id": "2c3bc47a",
   "metadata": {},
   "outputs": [
    {
     "name": "stdout",
     "output_type": "stream",
     "text": [
      "16\n"
     ]
    }
   ],
   "source": [
    "print(c.itemsize)"
   ]
  },
  {
   "cell_type": "code",
   "execution_count": 37,
   "id": "322aeeb9",
   "metadata": {},
   "outputs": [
    {
     "name": "stdout",
     "output_type": "stream",
     "text": [
      "int32\n"
     ]
    }
   ],
   "source": [
    "print(a.dtype)"
   ]
  },
  {
   "cell_type": "code",
   "execution_count": 38,
   "id": "51fb9eb8",
   "metadata": {},
   "outputs": [
    {
     "name": "stdout",
     "output_type": "stream",
     "text": [
      "int32\n"
     ]
    }
   ],
   "source": [
    "print(b.dtype)"
   ]
  },
  {
   "cell_type": "code",
   "execution_count": 39,
   "id": "e8d51811",
   "metadata": {},
   "outputs": [
    {
     "name": "stdout",
     "output_type": "stream",
     "text": [
      "complex128\n"
     ]
    }
   ],
   "source": [
    "print(c.dtype)"
   ]
  },
  {
   "cell_type": "code",
   "execution_count": 40,
   "id": "ad820158",
   "metadata": {},
   "outputs": [
    {
     "name": "stdout",
     "output_type": "stream",
     "text": [
      "[11 22 33 44 55 66]\n"
     ]
    }
   ],
   "source": [
    "print(a)"
   ]
  },
  {
   "cell_type": "code",
   "execution_count": 41,
   "id": "816de078",
   "metadata": {},
   "outputs": [
    {
     "name": "stdout",
     "output_type": "stream",
     "text": [
      "[[11 22 33 44]\n",
      " [ 1  2  3  4]]\n"
     ]
    }
   ],
   "source": [
    "print(b)"
   ]
  },
  {
   "cell_type": "code",
   "execution_count": 42,
   "id": "d524a9ca",
   "metadata": {},
   "outputs": [
    {
     "name": "stdout",
     "output_type": "stream",
     "text": [
      "6\n"
     ]
    }
   ],
   "source": [
    "print(a.size)"
   ]
  },
  {
   "cell_type": "code",
   "execution_count": 43,
   "id": "3d7abd3d",
   "metadata": {},
   "outputs": [
    {
     "name": "stdout",
     "output_type": "stream",
     "text": [
      "8\n"
     ]
    }
   ],
   "source": [
    "print(b.size)"
   ]
  },
  {
   "cell_type": "code",
   "execution_count": 44,
   "id": "abbf5c53",
   "metadata": {},
   "outputs": [
    {
     "name": "stdout",
     "output_type": "stream",
     "text": [
      "3\n"
     ]
    }
   ],
   "source": [
    "print(c.size)"
   ]
  },
  {
   "cell_type": "code",
   "execution_count": 45,
   "id": "02c072f4",
   "metadata": {},
   "outputs": [
    {
     "name": "stdout",
     "output_type": "stream",
     "text": [
      "(6,)\n"
     ]
    }
   ],
   "source": [
    "print(a.shape)"
   ]
  },
  {
   "cell_type": "code",
   "execution_count": 46,
   "id": "e19f1997",
   "metadata": {},
   "outputs": [
    {
     "name": "stdout",
     "output_type": "stream",
     "text": [
      "(2, 4)\n"
     ]
    }
   ],
   "source": [
    "print(b.shape)"
   ]
  },
  {
   "cell_type": "code",
   "execution_count": 47,
   "id": "e67290ce",
   "metadata": {},
   "outputs": [
    {
     "name": "stdout",
     "output_type": "stream",
     "text": [
      "(3,)\n"
     ]
    }
   ],
   "source": [
    "print(c.shape)"
   ]
  },
  {
   "cell_type": "code",
   "execution_count": 49,
   "id": "cfa525df",
   "metadata": {},
   "outputs": [],
   "source": [
    "myarray = np.array([[11,22,33,44],[1,2,3,4],[111,222,333,444]])"
   ]
  },
  {
   "cell_type": "code",
   "execution_count": 50,
   "id": "87ce4e93",
   "metadata": {},
   "outputs": [
    {
     "name": "stdout",
     "output_type": "stream",
     "text": [
      "[[ 11  22  33  44]\n",
      " [  1   2   3   4]\n",
      " [111 222 333 444]]\n"
     ]
    }
   ],
   "source": [
    "print(myarray)"
   ]
  },
  {
   "cell_type": "code",
   "execution_count": 51,
   "id": "76b8a54e",
   "metadata": {},
   "outputs": [
    {
     "name": "stdout",
     "output_type": "stream",
     "text": [
      "(3, 4)\n"
     ]
    }
   ],
   "source": [
    "print(myarray.shape)"
   ]
  },
  {
   "cell_type": "code",
   "execution_count": 52,
   "id": "7604242f",
   "metadata": {},
   "outputs": [],
   "source": [
    "myarray2 = myarray.reshape(4,3)"
   ]
  },
  {
   "cell_type": "code",
   "execution_count": 53,
   "id": "0d03b393",
   "metadata": {},
   "outputs": [
    {
     "name": "stdout",
     "output_type": "stream",
     "text": [
      "[[ 11  22  33]\n",
      " [ 44   1   2]\n",
      " [  3   4 111]\n",
      " [222 333 444]]\n"
     ]
    }
   ],
   "source": [
    "print(myarray.reshape(4,3))"
   ]
  },
  {
   "cell_type": "code",
   "execution_count": 55,
   "id": "429079cb",
   "metadata": {},
   "outputs": [
    {
     "name": "stdout",
     "output_type": "stream",
     "text": [
      "22\n"
     ]
    }
   ],
   "source": [
    "print(myarray[0,1])"
   ]
  },
  {
   "cell_type": "code",
   "execution_count": 56,
   "id": "6ca50285",
   "metadata": {},
   "outputs": [],
   "source": [
    "myarray3 = np.array([[11,22,33,44],[1,2,3,4],[111,222,333,444]])"
   ]
  },
  {
   "cell_type": "code",
   "execution_count": 57,
   "id": "219f79f5",
   "metadata": {},
   "outputs": [],
   "source": [
    "myarray4 = np.array([[44,-3,0,1],[1,202,6,4],[111,222,333,444]])"
   ]
  },
  {
   "cell_type": "code",
   "execution_count": 58,
   "id": "b0c8d9b2",
   "metadata": {},
   "outputs": [
    {
     "name": "stdout",
     "output_type": "stream",
     "text": [
      "[[   484    -66      0     44]\n",
      " [     1    404     18     16]\n",
      " [ 12321  49284 110889 197136]]\n"
     ]
    }
   ],
   "source": [
    "print(myarray3*myarray4)"
   ]
  },
  {
   "cell_type": "code",
   "execution_count": 59,
   "id": "34e212bd",
   "metadata": {},
   "outputs": [
    {
     "name": "stdout",
     "output_type": "stream",
     "text": [
      "[[ 55  19  33  45]\n",
      " [  2 204   9   8]\n",
      " [222 444 666 888]]\n"
     ]
    }
   ],
   "source": [
    "print(myarray3+myarray4)"
   ]
  },
  {
   "cell_type": "code",
   "execution_count": 60,
   "id": "7e1597dc",
   "metadata": {},
   "outputs": [
    {
     "name": "stdout",
     "output_type": "stream",
     "text": [
      "[[ -33   25   33   43]\n",
      " [   0 -200   -3    0]\n",
      " [   0    0    0    0]]\n"
     ]
    }
   ],
   "source": [
    "print(myarray3-myarray4)"
   ]
  },
  {
   "cell_type": "code",
   "execution_count": 64,
   "id": "cb028cd0",
   "metadata": {},
   "outputs": [
    {
     "name": "stdout",
     "output_type": "stream",
     "text": [
      "[[   484    -66      0     44]\n",
      " [     1    404     18     16]\n",
      " [ 12321  49284 110889 197136]]\n"
     ]
    }
   ],
   "source": [
    "print(myarray3*myarray4)"
   ]
  },
  {
   "cell_type": "code",
   "execution_count": 65,
   "id": "cc6081ca",
   "metadata": {},
   "outputs": [
    {
     "name": "stdout",
     "output_type": "stream",
     "text": [
      "[[ 11  22  33  44  44  -3   0   1]\n",
      " [  1   2   3   4   1 202   6   4]\n",
      " [111 222 333 444 111 222 333 444]]\n"
     ]
    }
   ],
   "source": [
    "print(np.hstack((myarray3,myarray4)))"
   ]
  },
  {
   "cell_type": "code",
   "execution_count": 66,
   "id": "1553c1ae",
   "metadata": {},
   "outputs": [
    {
     "name": "stdout",
     "output_type": "stream",
     "text": [
      "[[ 11  22  33  44]\n",
      " [  1   2   3   4]\n",
      " [111 222 333 444]\n",
      " [ 44  -3   0   1]\n",
      " [  1 202   6   4]\n",
      " [111 222 333 444]]\n"
     ]
    }
   ],
   "source": [
    "print(np.vstack((myarray3,myarray4)))"
   ]
  },
  {
   "cell_type": "markdown",
   "id": "868a5b0c",
   "metadata": {},
   "source": [
    "Numpy Zeros"
   ]
  },
  {
   "cell_type": "code",
   "execution_count": 67,
   "id": "509a0038",
   "metadata": {},
   "outputs": [
    {
     "data": {
      "text/plain": [
       "array([[0., 0.],\n",
       "       [0., 0.],\n",
       "       [0., 0.]])"
      ]
     },
     "execution_count": 67,
     "metadata": {},
     "output_type": "execute_result"
    }
   ],
   "source": [
    "np.zeros((3,2),dtype= float)"
   ]
  },
  {
   "cell_type": "code",
   "execution_count": 68,
   "id": "81559952",
   "metadata": {},
   "outputs": [],
   "source": [
    "myarr = np.zeros((3,2),dtype = int)"
   ]
  },
  {
   "cell_type": "code",
   "execution_count": 69,
   "id": "d14d6711",
   "metadata": {},
   "outputs": [
    {
     "name": "stdout",
     "output_type": "stream",
     "text": [
      "[[0 0]\n",
      " [0 0]\n",
      " [0 0]]\n"
     ]
    }
   ],
   "source": [
    "print(myarr)"
   ]
  },
  {
   "cell_type": "code",
   "execution_count": 78,
   "id": "2074d15d",
   "metadata": {},
   "outputs": [],
   "source": [
    "myarr2 = np.ones((3,2),dtype = complex)"
   ]
  },
  {
   "cell_type": "code",
   "execution_count": 79,
   "id": "639dbeb0",
   "metadata": {},
   "outputs": [
    {
     "name": "stdout",
     "output_type": "stream",
     "text": [
      "[[1.+0.j 1.+0.j]\n",
      " [1.+0.j 1.+0.j]\n",
      " [1.+0.j 1.+0.j]]\n"
     ]
    }
   ],
   "source": [
    "print(myarr2)"
   ]
  },
  {
   "cell_type": "code",
   "execution_count": 80,
   "id": "d14f1853",
   "metadata": {},
   "outputs": [],
   "source": [
    "myarr3 = np.empty((3,2),dtype = int)"
   ]
  },
  {
   "cell_type": "code",
   "execution_count": 81,
   "id": "d63960d1",
   "metadata": {},
   "outputs": [
    {
     "name": "stdout",
     "output_type": "stream",
     "text": [
      "[[1 1]\n",
      " [1 1]\n",
      " [1 1]]\n"
     ]
    }
   ],
   "source": [
    "print(myarr3)"
   ]
  },
  {
   "cell_type": "markdown",
   "id": "f5b38c7e",
   "metadata": {},
   "source": [
    "List && Typle"
   ]
  },
  {
   "cell_type": "code",
   "execution_count": 82,
   "id": "6ae7e984",
   "metadata": {},
   "outputs": [],
   "source": [
    "myList = [1,2,3,4,5,6,7,8]"
   ]
  },
  {
   "cell_type": "code",
   "execution_count": 83,
   "id": "72531433",
   "metadata": {},
   "outputs": [
    {
     "name": "stdout",
     "output_type": "stream",
     "text": [
      "[1, 2, 3, 4, 5, 6, 7, 8]\n"
     ]
    }
   ],
   "source": [
    "print(myList)"
   ]
  },
  {
   "cell_type": "code",
   "execution_count": 84,
   "id": "a663c8ab",
   "metadata": {},
   "outputs": [
    {
     "name": "stdout",
     "output_type": "stream",
     "text": [
      "<class 'list'>\n"
     ]
    }
   ],
   "source": [
    "print(type(myList))"
   ]
  },
  {
   "cell_type": "code",
   "execution_count": 85,
   "id": "2129f0fa",
   "metadata": {},
   "outputs": [],
   "source": [
    "listtoarray = np.asarray(myList)"
   ]
  },
  {
   "cell_type": "code",
   "execution_count": 86,
   "id": "c51c6ab0",
   "metadata": {},
   "outputs": [
    {
     "name": "stdout",
     "output_type": "stream",
     "text": [
      "[1 2 3 4 5 6 7 8]\n"
     ]
    }
   ],
   "source": [
    "print(listtoarray)"
   ]
  },
  {
   "cell_type": "code",
   "execution_count": 87,
   "id": "ce7f9394",
   "metadata": {},
   "outputs": [
    {
     "name": "stdout",
     "output_type": "stream",
     "text": [
      "<class 'numpy.ndarray'>\n"
     ]
    }
   ],
   "source": [
    "print(type(listtoarray))"
   ]
  },
  {
   "cell_type": "code",
   "execution_count": 88,
   "id": "14a031e0",
   "metadata": {},
   "outputs": [],
   "source": [
    "mytuple= (1,2,3)"
   ]
  },
  {
   "cell_type": "code",
   "execution_count": 89,
   "id": "c8356b67",
   "metadata": {},
   "outputs": [
    {
     "name": "stdout",
     "output_type": "stream",
     "text": [
      "(1, 2, 3)\n"
     ]
    }
   ],
   "source": [
    "print(mytuple)"
   ]
  },
  {
   "cell_type": "code",
   "execution_count": 90,
   "id": "58cc837f",
   "metadata": {},
   "outputs": [],
   "source": [
    "typletoarray = np.asarray(mytuple)"
   ]
  },
  {
   "cell_type": "code",
   "execution_count": 91,
   "id": "445f27f9",
   "metadata": {},
   "outputs": [
    {
     "name": "stdout",
     "output_type": "stream",
     "text": [
      "[1 2 3]\n"
     ]
    }
   ],
   "source": [
    "print(typletoarray)"
   ]
  },
  {
   "cell_type": "code",
   "execution_count": 92,
   "id": "e93008f2",
   "metadata": {},
   "outputs": [
    {
     "name": "stdout",
     "output_type": "stream",
     "text": [
      "<class 'numpy.ndarray'>\n"
     ]
    }
   ],
   "source": [
    "print(type(typletoarray))"
   ]
  },
  {
   "cell_type": "code",
   "execution_count": 93,
   "id": "0d55fc2f",
   "metadata": {},
   "outputs": [
    {
     "name": "stdout",
     "output_type": "stream",
     "text": [
      "<class 'tuple'>\n"
     ]
    }
   ],
   "source": [
    "print(type(mytuple))"
   ]
  },
  {
   "cell_type": "code",
   "execution_count": 94,
   "id": "09387bcb",
   "metadata": {},
   "outputs": [],
   "source": [
    "mylist2 = [[1,2,3,4,5],[7,8,9,10]]"
   ]
  },
  {
   "cell_type": "code",
   "execution_count": 95,
   "id": "6ccc5faf",
   "metadata": {},
   "outputs": [
    {
     "name": "stdout",
     "output_type": "stream",
     "text": [
      "[[1, 2, 3, 4, 5], [7, 8, 9, 10]]\n"
     ]
    }
   ],
   "source": [
    "print(mylist2)"
   ]
  },
  {
   "cell_type": "code",
   "execution_count": 96,
   "id": "3e82abb8",
   "metadata": {},
   "outputs": [
    {
     "name": "stdout",
     "output_type": "stream",
     "text": [
      "<class 'list'>\n"
     ]
    }
   ],
   "source": [
    "print(type(mylist2))"
   ]
  },
  {
   "cell_type": "code",
   "execution_count": 98,
   "id": "8fb3b0ab",
   "metadata": {},
   "outputs": [],
   "source": [
    "to_array = np.asarray(mylist2,dtype=object)"
   ]
  },
  {
   "cell_type": "code",
   "execution_count": 99,
   "id": "d46ee7e3",
   "metadata": {},
   "outputs": [
    {
     "name": "stdout",
     "output_type": "stream",
     "text": [
      "[list([1, 2, 3, 4, 5]) list([7, 8, 9, 10])]\n"
     ]
    }
   ],
   "source": [
    "print(to_array)"
   ]
  },
  {
   "cell_type": "code",
   "execution_count": 100,
   "id": "7ca30917",
   "metadata": {},
   "outputs": [
    {
     "name": "stdout",
     "output_type": "stream",
     "text": [
      "<class 'numpy.ndarray'>\n"
     ]
    }
   ],
   "source": [
    "print(type(to_array))"
   ]
  },
  {
   "cell_type": "code",
   "execution_count": 110,
   "id": "8c776fdb",
   "metadata": {},
   "outputs": [],
   "source": [
    "mystring = \"Mohammed Al-Hitawi\""
   ]
  },
  {
   "cell_type": "code",
   "execution_count": 111,
   "id": "057c2e50",
   "metadata": {},
   "outputs": [
    {
     "name": "stdout",
     "output_type": "stream",
     "text": [
      "Mohammed Al-Hitawi\n"
     ]
    }
   ],
   "source": [
    "print(mystring)"
   ]
  },
  {
   "cell_type": "code",
   "execution_count": 112,
   "id": "2119781c",
   "metadata": {},
   "outputs": [
    {
     "name": "stdout",
     "output_type": "stream",
     "text": [
      "<class 'str'>\n"
     ]
    }
   ],
   "source": [
    "print(type(mystring))"
   ]
  },
  {
   "cell_type": "code",
   "execution_count": 113,
   "id": "76f06c80",
   "metadata": {},
   "outputs": [],
   "source": [
    "mystring = b\"Mohammed Al-Hitawi\""
   ]
  },
  {
   "cell_type": "code",
   "execution_count": 114,
   "id": "9e553204",
   "metadata": {},
   "outputs": [
    {
     "name": "stdout",
     "output_type": "stream",
     "text": [
      "<class 'bytes'>\n"
     ]
    }
   ],
   "source": [
    "print(type(mystring))"
   ]
  },
  {
   "cell_type": "code",
   "execution_count": 115,
   "id": "df37b16f",
   "metadata": {},
   "outputs": [],
   "source": [
    "str_to_arr = np.frombuffer(mystring,dtype = \"S1\")"
   ]
  },
  {
   "cell_type": "code",
   "execution_count": 116,
   "id": "598f7f08",
   "metadata": {},
   "outputs": [
    {
     "name": "stdout",
     "output_type": "stream",
     "text": [
      "[b'M' b'o' b'h' b'a' b'm' b'm' b'e' b'd' b' ' b'A' b'l' b'-' b'H' b'i'\n",
      " b't' b'a' b'w' b'i']\n"
     ]
    }
   ],
   "source": [
    "print(str_to_arr)"
   ]
  },
  {
   "cell_type": "code",
   "execution_count": 117,
   "id": "c602ec26",
   "metadata": {},
   "outputs": [
    {
     "name": "stdout",
     "output_type": "stream",
     "text": [
      "<class 'numpy.ndarray'>\n"
     ]
    }
   ],
   "source": [
    "print(type(str_to_arr))"
   ]
  },
  {
   "cell_type": "markdown",
   "id": "7abfc415",
   "metadata": {},
   "source": [
    "Range "
   ]
  },
  {
   "cell_type": "code",
   "execution_count": 119,
   "id": "f109f6e8",
   "metadata": {},
   "outputs": [],
   "source": [
    "myran = np.range(2,10,1,int)"
   ]
  },
  {
   "cell_type": "code",
   "execution_count": 120,
   "id": "7ef62973",
   "metadata": {},
   "outputs": [
    {
     "name": "stdout",
     "output_type": "stream",
     "text": [
      "[2 3 4 5 6 7 8 9]\n"
     ]
    }
   ],
   "source": [
    "print(myran)"
   ]
  },
  {
   "cell_type": "code",
   "execution_count": 126,
   "id": "68311367",
   "metadata": {},
   "outputs": [],
   "source": [
    "myran2 = np.arange(21,100,2,complex)"
   ]
  },
  {
   "cell_type": "code",
   "execution_count": 127,
   "id": "1331201c",
   "metadata": {},
   "outputs": [
    {
     "name": "stdout",
     "output_type": "stream",
     "text": [
      "[21.+0.j 23.+0.j 25.+0.j 27.+0.j 29.+0.j 31.+0.j 33.+0.j 35.+0.j 37.+0.j\n",
      " 39.+0.j 41.+0.j 43.+0.j 45.+0.j 47.+0.j 49.+0.j 51.+0.j 53.+0.j 55.+0.j\n",
      " 57.+0.j 59.+0.j 61.+0.j 63.+0.j 65.+0.j 67.+0.j 69.+0.j 71.+0.j 73.+0.j\n",
      " 75.+0.j 77.+0.j 79.+0.j 81.+0.j 83.+0.j 85.+0.j 87.+0.j 89.+0.j 91.+0.j\n",
      " 93.+0.j 95.+0.j 97.+0.j 99.+0.j]\n"
     ]
    }
   ],
   "source": [
    "print(myran2)"
   ]
  },
  {
   "cell_type": "code",
   "execution_count": 5,
   "id": "57cb57c7",
   "metadata": {},
   "outputs": [],
   "source": [
    "my3 =np.array([[11,22,33,44,55],[66,77,88,99,100]])"
   ]
  },
  {
   "cell_type": "code",
   "execution_count": 14,
   "id": "d2f41b62",
   "metadata": {},
   "outputs": [
    {
     "name": "stdout",
     "output_type": "stream",
     "text": [
      "10\n",
      "<class 'str'>\n"
     ]
    },
    {
     "data": {
      "text/plain": [
       "(None, None)"
      ]
     },
     "execution_count": 14,
     "metadata": {},
     "output_type": "execute_result"
    }
   ],
   "source": [
    "print(my3.size),print(type('hgh'))"
   ]
  },
  {
   "cell_type": "code",
   "execution_count": 7,
   "id": "d0b3b3af",
   "metadata": {},
   "outputs": [],
   "source": [
    "my = np.array([[11,22,33,44,55],[66,77,88,99,100]])"
   ]
  },
  {
   "cell_type": "code",
   "execution_count": 8,
   "id": "f3c7f315",
   "metadata": {},
   "outputs": [],
   "source": [
    "my4 =np.array([11,22,33,44,55])"
   ]
  },
  {
   "cell_type": "code",
   "execution_count": 9,
   "id": "98c39d3e",
   "metadata": {},
   "outputs": [],
   "source": [
    "total = my3 + my4"
   ]
  },
  {
   "cell_type": "code",
   "execution_count": 10,
   "id": "ddd8c26f",
   "metadata": {},
   "outputs": [
    {
     "name": "stdout",
     "output_type": "stream",
     "text": [
      "[[ 22  44  66  88 110]\n",
      " [ 77  99 121 143 155]]\n"
     ]
    }
   ],
   "source": [
    "print(total)"
   ]
  },
  {
   "cell_type": "code",
   "execution_count": 11,
   "id": "5b688d47",
   "metadata": {},
   "outputs": [
    {
     "name": "stdout",
     "output_type": "stream",
     "text": [
      "[[ 121  484 1089 1936 3025]\n",
      " [ 726 1694 2904 4356 5500]]\n"
     ]
    }
   ],
   "source": [
    "print(my3 * my4)"
   ]
  },
  {
   "cell_type": "code",
   "execution_count": 15,
   "id": "da4e7195",
   "metadata": {},
   "outputs": [],
   "source": [
    "a = np.char.add(['Mohammed ', 'Sulamain ' ],['Abed','Hussain'])"
   ]
  },
  {
   "cell_type": "code",
   "execution_count": 16,
   "id": "6ded89c4",
   "metadata": {},
   "outputs": [
    {
     "name": "stdout",
     "output_type": "stream",
     "text": [
      "['Mohammed Abed' 'Sulamain Hussain']\n"
     ]
    }
   ],
   "source": [
    "print(a)"
   ]
  },
  {
   "cell_type": "code",
   "execution_count": 25,
   "id": "17cccea6",
   "metadata": {},
   "outputs": [],
   "source": [
    "b = np.char.multiply(\"Mohammed  \",4)"
   ]
  },
  {
   "cell_type": "code",
   "execution_count": 23,
   "id": "c0b774a1",
   "metadata": {},
   "outputs": [
    {
     "name": "stdout",
     "output_type": "stream",
     "text": [
      "Mohammed  Mohammed  Mohammed  Mohammed  \n"
     ]
    }
   ],
   "source": [
    "print(b)"
   ]
  },
  {
   "cell_type": "code",
   "execution_count": 27,
   "id": "d36d2a62",
   "metadata": {},
   "outputs": [],
   "source": [
    "c = np.char.capitalize(\"mohammed abed sulaimai \")"
   ]
  },
  {
   "cell_type": "code",
   "execution_count": 28,
   "id": "6b4daa83",
   "metadata": {},
   "outputs": [
    {
     "name": "stdout",
     "output_type": "stream",
     "text": [
      "Mohammed abed sulaimai \n"
     ]
    }
   ],
   "source": [
    "print(c)"
   ]
  },
  {
   "cell_type": "code",
   "execution_count": 29,
   "id": "2e7b0c77",
   "metadata": {},
   "outputs": [],
   "source": [
    "d = np.char.title(\"mohammed abed sulaimai \")"
   ]
  },
  {
   "cell_type": "code",
   "execution_count": 30,
   "id": "3b59755b",
   "metadata": {},
   "outputs": [
    {
     "name": "stdout",
     "output_type": "stream",
     "text": [
      "Mohammed Abed Sulaimai \n"
     ]
    }
   ],
   "source": [
    "print(d)"
   ]
  },
  {
   "cell_type": "code",
   "execution_count": 7,
   "id": "471bbe7b",
   "metadata": {},
   "outputs": [],
   "source": [
    "employ_info = [(\"name\",\"S10\"),(\"Salary\",\"f8\"),(\"age\",\"i8\")]"
   ]
  },
  {
   "cell_type": "code",
   "execution_count": 8,
   "id": "14041c82",
   "metadata": {},
   "outputs": [
    {
     "name": "stdout",
     "output_type": "stream",
     "text": [
      "[('name', 'S10'), ('Salary', 'f8'), ('age', 'i8')] <class 'list'>\n"
     ]
    }
   ],
   "source": [
    "print(employ_info,type(employ_info))"
   ]
  },
  {
   "cell_type": "code",
   "execution_count": 9,
   "id": "414b688d",
   "metadata": {},
   "outputs": [],
   "source": [
    "emplyoo_staff= np.zeros((3), dtype = employ_info)"
   ]
  },
  {
   "cell_type": "code",
   "execution_count": 10,
   "id": "42a34a6b",
   "metadata": {},
   "outputs": [
    {
     "name": "stdout",
     "output_type": "stream",
     "text": [
      "[(b'', 0., 0) (b'', 0., 0) (b'', 0., 0)]\n"
     ]
    }
   ],
   "source": [
    "print(emplyoo_staff)"
   ]
  },
  {
   "cell_type": "code",
   "execution_count": 11,
   "id": "6090dfd2",
   "metadata": {},
   "outputs": [
    {
     "data": {
      "text/plain": [
       "array([(b'', 0., 0), (b'', 0., 0), (b'', 0., 0)],\n",
       "      dtype=[('name', 'S10'), ('Salary', '<f8'), ('age', '<i8')])"
      ]
     },
     "execution_count": 11,
     "metadata": {},
     "output_type": "execute_result"
    }
   ],
   "source": [
    "emplyoo_staff"
   ]
  },
  {
   "cell_type": "code",
   "execution_count": 13,
   "id": "da3810fc",
   "metadata": {},
   "outputs": [],
   "source": [
    "emplyoo_staff[2] = (\"Mohammed\",3000,29)"
   ]
  },
  {
   "cell_type": "code",
   "execution_count": 14,
   "id": "e81f6506",
   "metadata": {},
   "outputs": [],
   "source": [
    "emplyoo_staff[1] = (\"Ahmed\" , 6000 , 26)"
   ]
  },
  {
   "cell_type": "code",
   "execution_count": 15,
   "id": "71a9daea",
   "metadata": {},
   "outputs": [
    {
     "data": {
      "text/plain": [
       "array([(b'',    0.,  0), (b'Ahmed', 6000., 26), (b'Mohammed', 3000., 29)],\n",
       "      dtype=[('name', 'S10'), ('Salary', '<f8'), ('age', '<i8')])"
      ]
     },
     "execution_count": 15,
     "metadata": {},
     "output_type": "execute_result"
    }
   ],
   "source": [
    "emplyoo_staff"
   ]
  },
  {
   "cell_type": "code",
   "execution_count": 16,
   "id": "034891e2",
   "metadata": {},
   "outputs": [
    {
     "data": {
      "text/plain": [
       "array([b'', b'Ahmed', b'Mohammed'], dtype='|S10')"
      ]
     },
     "execution_count": 16,
     "metadata": {},
     "output_type": "execute_result"
    }
   ],
   "source": [
    "emplyoo_staff['name']"
   ]
  },
  {
   "cell_type": "code",
   "execution_count": 20,
   "id": "f8da747e",
   "metadata": {},
   "outputs": [],
   "source": [
    "salary = emplyoo_staff['Salary']"
   ]
  },
  {
   "cell_type": "code",
   "execution_count": 25,
   "id": "ac31451e",
   "metadata": {},
   "outputs": [
    {
     "data": {
      "text/plain": [
       "array([   0., 6000., 3000.])"
      ]
     },
     "execution_count": 25,
     "metadata": {},
     "output_type": "execute_result"
    }
   ],
   "source": [
    "salary"
   ]
  },
  {
   "cell_type": "code",
   "execution_count": 26,
   "id": "ee23f86b",
   "metadata": {},
   "outputs": [],
   "source": [
    "age = emplyoo_staff['age']"
   ]
  },
  {
   "cell_type": "code",
   "execution_count": 23,
   "id": "5b7b71a1",
   "metadata": {},
   "outputs": [],
   "source": [
    "add_sallary= salary + 2000"
   ]
  },
  {
   "cell_type": "code",
   "execution_count": 24,
   "id": "bf539c9d",
   "metadata": {},
   "outputs": [
    {
     "data": {
      "text/plain": [
       "array([2000., 8000., 5000.])"
      ]
     },
     "execution_count": 24,
     "metadata": {},
     "output_type": "execute_result"
    }
   ],
   "source": [
    "add_sallary"
   ]
  },
  {
   "cell_type": "code",
   "execution_count": 27,
   "id": "b6290770",
   "metadata": {},
   "outputs": [],
   "source": [
    "add_age = age + 20"
   ]
  },
  {
   "cell_type": "code",
   "execution_count": 28,
   "id": "1ff9f15d",
   "metadata": {},
   "outputs": [
    {
     "data": {
      "text/plain": [
       "array([20, 46, 49], dtype=int64)"
      ]
     },
     "execution_count": 28,
     "metadata": {},
     "output_type": "execute_result"
    }
   ],
   "source": [
    "add_age"
   ]
  },
  {
   "cell_type": "code",
   "execution_count": 35,
   "id": "fa012321",
   "metadata": {},
   "outputs": [],
   "source": [
    "all_empyoos = np.zeros((4,3,2), dtype =employ_info)"
   ]
  },
  {
   "cell_type": "code",
   "execution_count": 36,
   "id": "cb652be6",
   "metadata": {},
   "outputs": [
    {
     "data": {
      "text/plain": [
       "array([[[(b'', 0., 0), (b'', 0., 0)],\n",
       "        [(b'', 0., 0), (b'', 0., 0)],\n",
       "        [(b'', 0., 0), (b'', 0., 0)]],\n",
       "\n",
       "       [[(b'', 0., 0), (b'', 0., 0)],\n",
       "        [(b'', 0., 0), (b'', 0., 0)],\n",
       "        [(b'', 0., 0), (b'', 0., 0)]],\n",
       "\n",
       "       [[(b'', 0., 0), (b'', 0., 0)],\n",
       "        [(b'', 0., 0), (b'', 0., 0)],\n",
       "        [(b'', 0., 0), (b'', 0., 0)]],\n",
       "\n",
       "       [[(b'', 0., 0), (b'', 0., 0)],\n",
       "        [(b'', 0., 0), (b'', 0., 0)],\n",
       "        [(b'', 0., 0), (b'', 0., 0)]]],\n",
       "      dtype=[('name', 'S10'), ('Salary', '<f8'), ('age', '<i8')])"
      ]
     },
     "execution_count": 36,
     "metadata": {},
     "output_type": "execute_result"
    }
   ],
   "source": [
    "all_empyoos"
   ]
  },
  {
   "cell_type": "code",
   "execution_count": 37,
   "id": "c8957f49",
   "metadata": {},
   "outputs": [
    {
     "data": {
      "text/plain": [
       "array([[[b'', b''],\n",
       "        [b'', b''],\n",
       "        [b'', b'']],\n",
       "\n",
       "       [[b'', b''],\n",
       "        [b'', b''],\n",
       "        [b'', b'']],\n",
       "\n",
       "       [[b'', b''],\n",
       "        [b'', b''],\n",
       "        [b'', b'']],\n",
       "\n",
       "       [[b'', b''],\n",
       "        [b'', b''],\n",
       "        [b'', b'']]], dtype='|S10')"
      ]
     },
     "execution_count": 37,
     "metadata": {},
     "output_type": "execute_result"
    }
   ],
   "source": [
    "all_empyoos['name']"
   ]
  },
  {
   "cell_type": "code",
   "execution_count": 38,
   "id": "ffef2e9d",
   "metadata": {},
   "outputs": [
    {
     "data": {
      "text/plain": [
       "array([[[0, 0],\n",
       "        [0, 0],\n",
       "        [0, 0]],\n",
       "\n",
       "       [[0, 0],\n",
       "        [0, 0],\n",
       "        [0, 0]],\n",
       "\n",
       "       [[0, 0],\n",
       "        [0, 0],\n",
       "        [0, 0]],\n",
       "\n",
       "       [[0, 0],\n",
       "        [0, 0],\n",
       "        [0, 0]]], dtype=int64)"
      ]
     },
     "execution_count": 38,
     "metadata": {},
     "output_type": "execute_result"
    }
   ],
   "source": [
    "all_empyoos[\"age\"]"
   ]
  },
  {
   "cell_type": "code",
   "execution_count": 40,
   "id": "c93d7ab1",
   "metadata": {},
   "outputs": [
    {
     "data": {
      "text/plain": [
       "array([[[0., 0.],\n",
       "        [0., 0.],\n",
       "        [0., 0.]],\n",
       "\n",
       "       [[0., 0.],\n",
       "        [0., 0.],\n",
       "        [0., 0.]],\n",
       "\n",
       "       [[0., 0.],\n",
       "        [0., 0.],\n",
       "        [0., 0.]],\n",
       "\n",
       "       [[0., 0.],\n",
       "        [0., 0.],\n",
       "        [0., 0.]]])"
      ]
     },
     "execution_count": 40,
     "metadata": {},
     "output_type": "execute_result"
    }
   ],
   "source": [
    "all_empyoos['Salary']"
   ]
  },
  {
   "cell_type": "code",
   "execution_count": 41,
   "id": "0f3e0a62",
   "metadata": {},
   "outputs": [],
   "source": [
    "all_empyoos[0,0,1] = (\"Mohammed\" , 8000, 22)"
   ]
  },
  {
   "cell_type": "code",
   "execution_count": 42,
   "id": "41612070",
   "metadata": {},
   "outputs": [
    {
     "data": {
      "text/plain": [
       "array([[[(b'',    0.,  0), (b'Mohammed', 8000., 22)],\n",
       "        [(b'',    0.,  0), (b'',    0.,  0)],\n",
       "        [(b'',    0.,  0), (b'',    0.,  0)]],\n",
       "\n",
       "       [[(b'',    0.,  0), (b'',    0.,  0)],\n",
       "        [(b'',    0.,  0), (b'',    0.,  0)],\n",
       "        [(b'',    0.,  0), (b'',    0.,  0)]],\n",
       "\n",
       "       [[(b'',    0.,  0), (b'',    0.,  0)],\n",
       "        [(b'',    0.,  0), (b'',    0.,  0)],\n",
       "        [(b'',    0.,  0), (b'',    0.,  0)]],\n",
       "\n",
       "       [[(b'',    0.,  0), (b'',    0.,  0)],\n",
       "        [(b'',    0.,  0), (b'',    0.,  0)],\n",
       "        [(b'',    0.,  0), (b'',    0.,  0)]]],\n",
       "      dtype=[('name', 'S10'), ('Salary', '<f8'), ('age', '<i8')])"
      ]
     },
     "execution_count": 42,
     "metadata": {},
     "output_type": "execute_result"
    }
   ],
   "source": [
    "all_empyoos"
   ]
  },
  {
   "cell_type": "code",
   "execution_count": 43,
   "id": "9dcc8e3e",
   "metadata": {},
   "outputs": [],
   "source": [
    "all_empyoos[2,1,0] = (\"Mohammed\" , 8000, 22)"
   ]
  },
  {
   "cell_type": "code",
   "execution_count": 44,
   "id": "b6e531f6",
   "metadata": {},
   "outputs": [
    {
     "data": {
      "text/plain": [
       "array([[[(b'',    0.,  0), (b'Mohammed', 8000., 22)],\n",
       "        [(b'',    0.,  0), (b'',    0.,  0)],\n",
       "        [(b'',    0.,  0), (b'',    0.,  0)]],\n",
       "\n",
       "       [[(b'',    0.,  0), (b'',    0.,  0)],\n",
       "        [(b'',    0.,  0), (b'',    0.,  0)],\n",
       "        [(b'',    0.,  0), (b'',    0.,  0)]],\n",
       "\n",
       "       [[(b'',    0.,  0), (b'',    0.,  0)],\n",
       "        [(b'Mohammed', 8000., 22), (b'',    0.,  0)],\n",
       "        [(b'',    0.,  0), (b'',    0.,  0)]],\n",
       "\n",
       "       [[(b'',    0.,  0), (b'',    0.,  0)],\n",
       "        [(b'',    0.,  0), (b'',    0.,  0)],\n",
       "        [(b'',    0.,  0), (b'',    0.,  0)]]],\n",
       "      dtype=[('name', 'S10'), ('Salary', '<f8'), ('age', '<i8')])"
      ]
     },
     "execution_count": 44,
     "metadata": {},
     "output_type": "execute_result"
    }
   ],
   "source": [
    "all_empyoos"
   ]
  },
  {
   "cell_type": "code",
   "execution_count": 46,
   "id": "336e87e8",
   "metadata": {},
   "outputs": [],
   "source": [
    "all_empyoos[3,2,1] = (\"Mohammed\" , 8000, 22)"
   ]
  },
  {
   "cell_type": "code",
   "execution_count": 47,
   "id": "f3c73c9f",
   "metadata": {},
   "outputs": [
    {
     "data": {
      "text/plain": [
       "array([[[(b'',    0.,  0), (b'Mohammed', 8000., 22)],\n",
       "        [(b'',    0.,  0), (b'',    0.,  0)],\n",
       "        [(b'',    0.,  0), (b'',    0.,  0)]],\n",
       "\n",
       "       [[(b'',    0.,  0), (b'',    0.,  0)],\n",
       "        [(b'',    0.,  0), (b'',    0.,  0)],\n",
       "        [(b'',    0.,  0), (b'',    0.,  0)]],\n",
       "\n",
       "       [[(b'',    0.,  0), (b'',    0.,  0)],\n",
       "        [(b'Mohammed', 8000., 22), (b'',    0.,  0)],\n",
       "        [(b'',    0.,  0), (b'',    0.,  0)]],\n",
       "\n",
       "       [[(b'',    0.,  0), (b'',    0.,  0)],\n",
       "        [(b'',    0.,  0), (b'',    0.,  0)],\n",
       "        [(b'',    0.,  0), (b'Mohammed', 8000., 22)]]],\n",
       "      dtype=[('name', 'S10'), ('Salary', '<f8'), ('age', '<i8')])"
      ]
     },
     "execution_count": 47,
     "metadata": {},
     "output_type": "execute_result"
    }
   ],
   "source": [
    "all_empyoos"
   ]
  },
  {
   "cell_type": "code",
   "execution_count": 51,
   "id": "6c5a4dd6",
   "metadata": {},
   "outputs": [
    {
     "data": {
      "text/plain": [
       "array([[[(b'',    0.), (b'Mohammed', 8000.)],\n",
       "        [(b'',    0.), (b'',    0.)],\n",
       "        [(b'',    0.), (b'',    0.)]],\n",
       "\n",
       "       [[(b'',    0.), (b'',    0.)],\n",
       "        [(b'',    0.), (b'',    0.)],\n",
       "        [(b'',    0.), (b'',    0.)]],\n",
       "\n",
       "       [[(b'',    0.), (b'',    0.)],\n",
       "        [(b'Mohammed', 8000.), (b'',    0.)],\n",
       "        [(b'',    0.), (b'',    0.)]],\n",
       "\n",
       "       [[(b'',    0.), (b'',    0.)],\n",
       "        [(b'',    0.), (b'',    0.)],\n",
       "        [(b'',    0.), (b'Mohammed', 8000.)]]],\n",
       "      dtype={'names':['name','Salary'], 'formats':['S10','<f8'], 'offsets':[0,10], 'itemsize':26})"
      ]
     },
     "execution_count": 51,
     "metadata": {},
     "output_type": "execute_result"
    }
   ],
   "source": [
    "all_empyoos[[\"name\",\"Salary\"]]"
   ]
  },
  {
   "cell_type": "code",
   "execution_count": 52,
   "id": "69256fd7",
   "metadata": {},
   "outputs": [],
   "source": [
    "aa = [0.3,2.5,5.6,7.7]"
   ]
  },
  {
   "cell_type": "code",
   "execution_count": 53,
   "id": "48066087",
   "metadata": {},
   "outputs": [
    {
     "data": {
      "text/plain": [
       "[0.3, 2.5, 5.6, 7.7]"
      ]
     },
     "execution_count": 53,
     "metadata": {},
     "output_type": "execute_result"
    }
   ],
   "source": [
    "aa"
   ]
  },
  {
   "cell_type": "code",
   "execution_count": 54,
   "id": "375bac20",
   "metadata": {},
   "outputs": [],
   "source": [
    "aaa = np.ceil(aa)"
   ]
  },
  {
   "cell_type": "code",
   "execution_count": 55,
   "id": "796398f2",
   "metadata": {},
   "outputs": [
    {
     "data": {
      "text/plain": [
       "array([1., 3., 6., 8.])"
      ]
     },
     "execution_count": 55,
     "metadata": {},
     "output_type": "execute_result"
    }
   ],
   "source": [
    "aaa"
   ]
  },
  {
   "cell_type": "code",
   "execution_count": 56,
   "id": "abe7136a",
   "metadata": {},
   "outputs": [],
   "source": [
    "aa2 = [0.3,2.5,5.6,7.7]"
   ]
  },
  {
   "cell_type": "code",
   "execution_count": 57,
   "id": "54714230",
   "metadata": {},
   "outputs": [
    {
     "name": "stdout",
     "output_type": "stream",
     "text": [
      "[0. 2. 5. 7.]\n"
     ]
    }
   ],
   "source": [
    "print(np.fix(aa2))"
   ]
  },
  {
   "cell_type": "code",
   "execution_count": 58,
   "id": "979a77e7",
   "metadata": {},
   "outputs": [
    {
     "name": "stdout",
     "output_type": "stream",
     "text": [
      "[0. 2. 5. 7.]\n"
     ]
    }
   ],
   "source": [
    "print(np.floor(aa2))"
   ]
  },
  {
   "cell_type": "code",
   "execution_count": 86,
   "id": "7af774f8",
   "metadata": {},
   "outputs": [],
   "source": [
    "import numpy.matlib"
   ]
  },
  {
   "cell_type": "code",
   "execution_count": 65,
   "id": "1e98b12c",
   "metadata": {},
   "outputs": [],
   "source": [
    "myeyearr = np.matlib.eye( 4 ,k = 0 ,dtype = float)"
   ]
  },
  {
   "cell_type": "code",
   "execution_count": 66,
   "id": "6d81bc71",
   "metadata": {},
   "outputs": [
    {
     "data": {
      "text/plain": [
       "matrix([[1., 0., 0., 0.],\n",
       "        [0., 1., 0., 0.],\n",
       "        [0., 0., 1., 0.],\n",
       "        [0., 0., 0., 1.]])"
      ]
     },
     "execution_count": 66,
     "metadata": {},
     "output_type": "execute_result"
    }
   ],
   "source": [
    "myeyearr"
   ]
  },
  {
   "cell_type": "code",
   "execution_count": 70,
   "id": "0acb095e",
   "metadata": {},
   "outputs": [],
   "source": [
    "myeyearr1 = np.matlib.identity( 4 )"
   ]
  },
  {
   "cell_type": "code",
   "execution_count": 71,
   "id": "02793880",
   "metadata": {},
   "outputs": [
    {
     "data": {
      "text/plain": [
       "matrix([[1., 0., 0., 0.],\n",
       "        [0., 1., 0., 0.],\n",
       "        [0., 0., 1., 0.],\n",
       "        [0., 0., 0., 1.]])"
      ]
     },
     "execution_count": 71,
     "metadata": {},
     "output_type": "execute_result"
    }
   ],
   "source": [
    "myeyearr1"
   ]
  },
  {
   "cell_type": "code",
   "execution_count": 73,
   "id": "58dfdef9",
   "metadata": {},
   "outputs": [],
   "source": [
    "first_array = np.array([1,2,3,4,5,6])"
   ]
  },
  {
   "cell_type": "code",
   "execution_count": 74,
   "id": "c4956482",
   "metadata": {},
   "outputs": [],
   "source": [
    "second_array = first_array"
   ]
  },
  {
   "cell_type": "code",
   "execution_count": 75,
   "id": "04c5aa05",
   "metadata": {},
   "outputs": [
    {
     "data": {
      "text/plain": [
       "array([1, 2, 3, 4, 5, 6])"
      ]
     },
     "execution_count": 75,
     "metadata": {},
     "output_type": "execute_result"
    }
   ],
   "source": [
    "first_array"
   ]
  },
  {
   "cell_type": "code",
   "execution_count": 76,
   "id": "b1da79c2",
   "metadata": {},
   "outputs": [
    {
     "data": {
      "text/plain": [
       "array([1, 2, 3, 4, 5, 6])"
      ]
     },
     "execution_count": 76,
     "metadata": {},
     "output_type": "execute_result"
    }
   ],
   "source": [
    "second_array"
   ]
  },
  {
   "cell_type": "code",
   "execution_count": 77,
   "id": "62f4e5e1",
   "metadata": {},
   "outputs": [
    {
     "data": {
      "text/plain": [
       "True"
      ]
     },
     "execution_count": 77,
     "metadata": {},
     "output_type": "execute_result"
    }
   ],
   "source": [
    "first_array is second_array"
   ]
  },
  {
   "cell_type": "code",
   "execution_count": 78,
   "id": "2afb6489",
   "metadata": {},
   "outputs": [
    {
     "data": {
      "text/plain": [
       "3059578094960"
      ]
     },
     "execution_count": 78,
     "metadata": {},
     "output_type": "execute_result"
    }
   ],
   "source": [
    "id(first_array)"
   ]
  },
  {
   "cell_type": "code",
   "execution_count": 79,
   "id": "c248be83",
   "metadata": {},
   "outputs": [
    {
     "data": {
      "text/plain": [
       "3059578094960"
      ]
     },
     "execution_count": 79,
     "metadata": {},
     "output_type": "execute_result"
    }
   ],
   "source": [
    "id(second_array)"
   ]
  },
  {
   "cell_type": "code",
   "execution_count": 80,
   "id": "e0bb1d9e",
   "metadata": {},
   "outputs": [
    {
     "data": {
      "text/plain": [
       "array([ True,  True,  True,  True,  True,  True])"
      ]
     },
     "execution_count": 80,
     "metadata": {},
     "output_type": "execute_result"
    }
   ],
   "source": [
    "first_array == second_array"
   ]
  },
  {
   "cell_type": "code",
   "execution_count": 81,
   "id": "ca447fd9",
   "metadata": {},
   "outputs": [],
   "source": [
    "second_array[2] = 22"
   ]
  },
  {
   "cell_type": "code",
   "execution_count": 82,
   "id": "e5e5315d",
   "metadata": {},
   "outputs": [
    {
     "data": {
      "text/plain": [
       "array([ 1,  2, 22,  4,  5,  6])"
      ]
     },
     "execution_count": 82,
     "metadata": {},
     "output_type": "execute_result"
    }
   ],
   "source": [
    "second_array"
   ]
  },
  {
   "cell_type": "code",
   "execution_count": 84,
   "id": "4bcae33a",
   "metadata": {},
   "outputs": [
    {
     "data": {
      "text/plain": [
       "array([ 1,  2, 22,  4,  5,  6])"
      ]
     },
     "execution_count": 84,
     "metadata": {},
     "output_type": "execute_result"
    }
   ],
   "source": [
    "first_array"
   ]
  },
  {
   "cell_type": "code",
   "execution_count": 87,
   "id": "df233334",
   "metadata": {},
   "outputs": [
    {
     "name": "stdout",
     "output_type": "stream",
     "text": [
      "3059578094960\n"
     ]
    }
   ],
   "source": [
    "print(id(first_array))"
   ]
  },
  {
   "cell_type": "code",
   "execution_count": 88,
   "id": "e37c8527",
   "metadata": {},
   "outputs": [
    {
     "name": "stdout",
     "output_type": "stream",
     "text": [
      "3059578094960\n"
     ]
    }
   ],
   "source": [
    "print(id(second_array))"
   ]
  },
  {
   "cell_type": "code",
   "execution_count": 96,
   "id": "f587aaaa",
   "metadata": {},
   "outputs": [],
   "source": [
    "ara = np.array(np.arange(24).reshape(2,3,4))"
   ]
  },
  {
   "cell_type": "code",
   "execution_count": 97,
   "id": "86e0bf9e",
   "metadata": {},
   "outputs": [
    {
     "data": {
      "text/plain": [
       "array([[[ 0,  1,  2,  3],\n",
       "        [ 4,  5,  6,  7],\n",
       "        [ 8,  9, 10, 11]],\n",
       "\n",
       "       [[12, 13, 14, 15],\n",
       "        [16, 17, 18, 19],\n",
       "        [20, 21, 22, 23]]])"
      ]
     },
     "execution_count": 97,
     "metadata": {},
     "output_type": "execute_result"
    }
   ],
   "source": [
    "ara"
   ]
  },
  {
   "cell_type": "code",
   "execution_count": 99,
   "id": "c388246c",
   "metadata": {},
   "outputs": [
    {
     "data": {
      "text/plain": [
       "24"
      ]
     },
     "execution_count": 99,
     "metadata": {},
     "output_type": "execute_result"
    }
   ],
   "source": [
    "ara.size"
   ]
  },
  {
   "cell_type": "code",
   "execution_count": 100,
   "id": "d00e135c",
   "metadata": {},
   "outputs": [
    {
     "data": {
      "text/plain": [
       "(2, 3, 4)"
      ]
     },
     "execution_count": 100,
     "metadata": {},
     "output_type": "execute_result"
    }
   ],
   "source": [
    "ara.shape"
   ]
  },
  {
   "cell_type": "code",
   "execution_count": 101,
   "id": "a6eb21cc",
   "metadata": {},
   "outputs": [
    {
     "data": {
      "text/plain": [
       "4"
      ]
     },
     "execution_count": 101,
     "metadata": {},
     "output_type": "execute_result"
    }
   ],
   "source": [
    "ara.itemsize"
   ]
  },
  {
   "cell_type": "code",
   "execution_count": 102,
   "id": "9446b427",
   "metadata": {},
   "outputs": [
    {
     "data": {
      "text/plain": [
       "numpy.ndarray"
      ]
     },
     "execution_count": 102,
     "metadata": {},
     "output_type": "execute_result"
    }
   ],
   "source": [
    "type(ara)"
   ]
  },
  {
   "cell_type": "code",
   "execution_count": 103,
   "id": "b2b51ec6",
   "metadata": {},
   "outputs": [
    {
     "data": {
      "text/plain": [
       "3"
      ]
     },
     "execution_count": 103,
     "metadata": {},
     "output_type": "execute_result"
    }
   ],
   "source": [
    "ara.ndim"
   ]
  },
  {
   "cell_type": "code",
   "execution_count": 104,
   "id": "d2b0917d",
   "metadata": {},
   "outputs": [],
   "source": [
    "fst_array = np.array(np.arange(24))"
   ]
  },
  {
   "cell_type": "code",
   "execution_count": 105,
   "id": "ea33bfa5",
   "metadata": {},
   "outputs": [
    {
     "data": {
      "text/plain": [
       "array([ 0,  1,  2,  3,  4,  5,  6,  7,  8,  9, 10, 11, 12, 13, 14, 15, 16,\n",
       "       17, 18, 19, 20, 21, 22, 23])"
      ]
     },
     "execution_count": 105,
     "metadata": {},
     "output_type": "execute_result"
    }
   ],
   "source": [
    "fst_array"
   ]
  },
  {
   "cell_type": "code",
   "execution_count": 106,
   "id": "586632c0",
   "metadata": {},
   "outputs": [],
   "source": [
    "sec_array = fst_array.reshape(2,3,4)"
   ]
  },
  {
   "cell_type": "code",
   "execution_count": 107,
   "id": "4b9e7965",
   "metadata": {},
   "outputs": [
    {
     "data": {
      "text/plain": [
       "array([[[ 0,  1,  2,  3],\n",
       "        [ 4,  5,  6,  7],\n",
       "        [ 8,  9, 10, 11]],\n",
       "\n",
       "       [[12, 13, 14, 15],\n",
       "        [16, 17, 18, 19],\n",
       "        [20, 21, 22, 23]]])"
      ]
     },
     "execution_count": 107,
     "metadata": {},
     "output_type": "execute_result"
    }
   ],
   "source": [
    "sec_array"
   ]
  },
  {
   "cell_type": "code",
   "execution_count": 108,
   "id": "7ede4037",
   "metadata": {},
   "outputs": [
    {
     "data": {
      "text/plain": [
       "array([[[ 0, 12],\n",
       "        [ 4, 16],\n",
       "        [ 8, 20]],\n",
       "\n",
       "       [[ 1, 13],\n",
       "        [ 5, 17],\n",
       "        [ 9, 21]],\n",
       "\n",
       "       [[ 2, 14],\n",
       "        [ 6, 18],\n",
       "        [10, 22]],\n",
       "\n",
       "       [[ 3, 15],\n",
       "        [ 7, 19],\n",
       "        [11, 23]]])"
      ]
     },
     "execution_count": 108,
     "metadata": {},
     "output_type": "execute_result"
    }
   ],
   "source": [
    "np.transpose(sec_array)"
   ]
  },
  {
   "cell_type": "code",
   "execution_count": 3,
   "id": "4ccdb28f",
   "metadata": {},
   "outputs": [],
   "source": [
    "from matplotlib  import pyplot as plt"
   ]
  },
  {
   "cell_type": "code",
   "execution_count": 4,
   "id": "94854339",
   "metadata": {},
   "outputs": [
    {
     "data": {
      "text/plain": [
       "[<matplotlib.lines.Line2D at 0x184816b3250>]"
      ]
     },
     "execution_count": 4,
     "metadata": {},
     "output_type": "execute_result"
    },
    {
     "data": {
      "image/png": "[encoded data removed]",
      "text/plain": [
       "<Figure size 432x288 with 1 Axes>"
      ]
     },
     "metadata": {
      "needs_background": "light"
     },
     "output_type": "display_data"
    }
   ],
   "source": [
    "plt.plot([1,2,3],[5,6,7])"
   ]
  },
  {
   "cell_type": "code",
   "execution_count": 5,
   "id": "be04566a",
   "metadata": {},
   "outputs": [],
   "source": [
    "a1 = [4,1,6]"
   ]
  },
  {
   "cell_type": "code",
   "execution_count": 6,
   "id": "4b126419",
   "metadata": {},
   "outputs": [],
   "source": [
    "a2 = [1,10,3]"
   ]
  },
  {
   "cell_type": "code",
   "execution_count": 7,
   "id": "1dc16cc0",
   "metadata": {},
   "outputs": [
    {
     "data": {
      "image/png": "[encoded data removed]",
      "text/plain": [
       "<Figure size 432x288 with 1 Axes>"
      ]
     },
     "metadata": {
      "needs_background": "light"
     },
     "output_type": "display_data"
    }
   ],
   "source": [
    "plt.plot(a1,a2)\n",
    "plt.title(\"Tow dimentains\" )\n",
    "plt.xlabel(\"Mohammed\")\n",
    "plt.ylabel(\"Abed\")\n",
    "plt.show()           "
   ]
  },
  {
   "cell_type": "code",
   "execution_count": 8,
   "id": "efea66dd",
   "metadata": {},
   "outputs": [
    {
     "data": {
      "image/png": "[encoded data removed]",
      "text/plain": [
       "<Figure size 432x288 with 1 Axes>"
      ]
     },
     "metadata": {
      "needs_background": "light"
     },
     "output_type": "display_data"
    }
   ],
   "source": [
    "a3 = [1,2,3,4,5,6]\n",
    "a4 = [11,22,33,44,55,0]\n",
    "plt.plot(a3,a4,'bo')\n",
    "plt.title(\"a3 && a4\" )\n",
    "plt.xlabel(\"X axis\")\n",
    "plt.ylabel(\"Y axis\")\n",
    "plt.show()"
   ]
  },
  {
   "cell_type": "code",
   "execution_count": 9,
   "id": "85e330a3",
   "metadata": {},
   "outputs": [],
   "source": [
    "emp_names = [\"Mohammed\",\"Abed\",\"sulamain\",\"Hussain\"]"
   ]
  },
  {
   "cell_type": "code",
   "execution_count": 10,
   "id": "b476dd84",
   "metadata": {},
   "outputs": [],
   "source": [
    "emp_salay= [1000,800,400,200]"
   ]
  },
  {
   "cell_type": "code",
   "execution_count": 27,
   "id": "d9f3913a",
   "metadata": {},
   "outputs": [
    {
     "data": {
      "image/png": "[encoded data removed]",
      "text/plain": [
       "<Figure size 2520x648 with 3 Axes>"
      ]
     },
     "metadata": {
      "needs_background": "light"
     },
     "output_type": "display_data"
    }
   ],
   "source": [
    "plt.figure(figsize=(35,9))\n",
    "plt.subplot(133)\n",
    "plt.bar(emp_names,emp_salay)\n",
    "plt.subplot(132)\n",
    "plt.plot(emp_names,emp_salay)\n",
    "\n",
    "plt.subplot(131)\n",
    "plt.scatter(emp_names,emp_salay)\n",
    "plt.xlabel(\"names axis\")\n",
    "plt.ylabel(\"Salary axix\")\n",
    "plt.title(\"emp_info\")\n",
    "plt.show()"
   ]
  },
  {
   "cell_type": "code",
   "execution_count": 12,
   "id": "e0b030b2",
   "metadata": {},
   "outputs": [
    {
     "data": {
      "text/plain": [
       "Text(0, 0.5, 'Salary axix')"
      ]
     },
     "execution_count": 12,
     "metadata": {},
     "output_type": "execute_result"
    },
    {
     "data": {
      "image/png": "[encoded data removed]",
      "text/plain": [
       "<Figure size 432x288 with 1 Axes>"
      ]
     },
     "metadata": {
      "needs_background": "light"
     },
     "output_type": "display_data"
    }
   ],
   "source": []
  },
  {
   "cell_type": "code",
   "execution_count": null,
   "id": "bd8cacc8",
   "metadata": {},
   "outputs": [],
   "source": []
  }
 ],
 "metadata": {
  "kernelspec": {
   "display_name": "Python 3",
   "language": "python",
   "name": "python3"
  },
  "language_info": {
   "codemirror_mode": {
    "name": "ipython",
    "version": 3
   },
   "file_extension": ".py",
   "mimetype": "text/x-python",
   "name": "python",
   "nbconvert_exporter": "python",
   "pygments_lexer": "ipython3",
   "version": "3.8.8"
  }
 },
 "nbformat": 4,
 "nbformat_minor": 5
}
